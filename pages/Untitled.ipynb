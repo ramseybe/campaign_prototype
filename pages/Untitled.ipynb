{
 "cells": [
  {
   "cell_type": "code",
   "execution_count": 1,
   "metadata": {},
   "outputs": [
    {
     "name": "stdout",
     "output_type": "stream",
     "text": [
      "Requirement already satisfied: pip in /Users/ben/opt/anaconda3/lib/python3.8/site-packages (21.0.1)\n",
      "Collecting pip\n",
      "  Downloading pip-23.0.1-py3-none-any.whl (2.1 MB)\n",
      "\u001b[K     |████████████████████████████████| 2.1 MB 2.8 MB/s eta 0:00:01\n",
      "\u001b[?25hInstalling collected packages: pip\n",
      "  Attempting uninstall: pip\n",
      "    Found existing installation: pip 21.0.1\n",
      "    Uninstalling pip-21.0.1:\n",
      "      Successfully uninstalled pip-21.0.1\n",
      "Successfully installed pip-23.0.1\n"
     ]
    }
   ],
   "source": [
    "!python -m pip install --upgrade pip\n"
   ]
  },
  {
   "cell_type": "code",
   "execution_count": 2,
   "metadata": {},
   "outputs": [
    {
     "name": "stdout",
     "output_type": "stream",
     "text": [
      "Collecting streamlit_card\n",
      "  Downloading streamlit_card-0.0.4-py3-none-any.whl (679 kB)\n",
      "\u001b[2K     \u001b[90m━━━━━━━━━━━━━━━━━━━━━━━━━━━━━━━━━━━━━━━\u001b[0m \u001b[32m679.4/679.4 kB\u001b[0m \u001b[31m4.7 MB/s\u001b[0m eta \u001b[36m0:00:00\u001b[0ma \u001b[36m0:00:01\u001b[0m\n",
      "\u001b[?25hRequirement already satisfied: streamlit>=0.63 in /Users/ben/opt/anaconda3/lib/python3.8/site-packages (from streamlit_card) (1.11.1)\n",
      "Requirement already satisfied: requests>=2.4 in /Users/ben/opt/anaconda3/lib/python3.8/site-packages (from streamlit>=0.63->streamlit_card) (2.25.1)\n",
      "Requirement already satisfied: click>=7.0 in /Users/ben/opt/anaconda3/lib/python3.8/site-packages (from streamlit>=0.63->streamlit_card) (7.1.2)\n",
      "Requirement already satisfied: importlib-metadata>=1.4 in /Users/ben/opt/anaconda3/lib/python3.8/site-packages (from streamlit>=0.63->streamlit_card) (3.10.0)\n",
      "Requirement already satisfied: pyarrow>=4.0 in /Users/ben/opt/anaconda3/lib/python3.8/site-packages (from streamlit>=0.63->streamlit_card) (6.0.1)\n",
      "Requirement already satisfied: attrs>=16.0.0 in /Users/ben/opt/anaconda3/lib/python3.8/site-packages (from streamlit>=0.63->streamlit_card) (20.3.0)\n",
      "Requirement already satisfied: pandas>=0.21.0 in /Users/ben/opt/anaconda3/lib/python3.8/site-packages (from streamlit>=0.63->streamlit_card) (1.4.0)\n",
      "Requirement already satisfied: pympler>=0.9 in /Users/ben/opt/anaconda3/lib/python3.8/site-packages (from streamlit>=0.63->streamlit_card) (1.0.1)\n",
      "Requirement already satisfied: validators>=0.2 in /Users/ben/opt/anaconda3/lib/python3.8/site-packages (from streamlit>=0.63->streamlit_card) (0.20.0)\n",
      "Requirement already satisfied: semver in /Users/ben/opt/anaconda3/lib/python3.8/site-packages (from streamlit>=0.63->streamlit_card) (2.13.0)\n",
      "Requirement already satisfied: gitpython!=3.1.19 in /Users/ben/opt/anaconda3/lib/python3.8/site-packages (from streamlit>=0.63->streamlit_card) (3.1.27)\n",
      "Requirement already satisfied: pillow>=6.2.0 in /Users/ben/opt/anaconda3/lib/python3.8/site-packages (from streamlit>=0.63->streamlit_card) (8.2.0)\n",
      "Requirement already satisfied: numpy in /Users/ben/opt/anaconda3/lib/python3.8/site-packages (from streamlit>=0.63->streamlit_card) (1.19.2)\n",
      "Requirement already satisfied: pydeck>=0.1.dev5 in /Users/ben/opt/anaconda3/lib/python3.8/site-packages (from streamlit>=0.63->streamlit_card) (0.7.1)\n",
      "Requirement already satisfied: packaging>=14.1 in /Users/ben/opt/anaconda3/lib/python3.8/site-packages (from streamlit>=0.63->streamlit_card) (20.9)\n",
      "Requirement already satisfied: toml in /Users/ben/opt/anaconda3/lib/python3.8/site-packages (from streamlit>=0.63->streamlit_card) (0.10.2)\n",
      "Requirement already satisfied: tornado>=5.0 in /Users/ben/opt/anaconda3/lib/python3.8/site-packages (from streamlit>=0.63->streamlit_card) (6.1)\n",
      "Requirement already satisfied: altair>=3.2.0 in /Users/ben/opt/anaconda3/lib/python3.8/site-packages (from streamlit>=0.63->streamlit_card) (4.2.0)\n",
      "Requirement already satisfied: blinker>=1.0.0 in /Users/ben/opt/anaconda3/lib/python3.8/site-packages (from streamlit>=0.63->streamlit_card) (1.5)\n",
      "Requirement already satisfied: cachetools>=4.0 in /Users/ben/opt/anaconda3/lib/python3.8/site-packages (from streamlit>=0.63->streamlit_card) (5.2.0)\n",
      "Requirement already satisfied: protobuf<4,>=3.12 in /Users/ben/opt/anaconda3/lib/python3.8/site-packages (from streamlit>=0.63->streamlit_card) (3.20.1)\n",
      "Requirement already satisfied: python-dateutil in /Users/ben/opt/anaconda3/lib/python3.8/site-packages (from streamlit>=0.63->streamlit_card) (2.8.1)\n",
      "Requirement already satisfied: tzlocal>=1.1 in /Users/ben/opt/anaconda3/lib/python3.8/site-packages (from streamlit>=0.63->streamlit_card) (4.2)\n",
      "Requirement already satisfied: typing-extensions>=3.10.0.0 in /Users/ben/opt/anaconda3/lib/python3.8/site-packages (from streamlit>=0.63->streamlit_card) (4.3.0)\n",
      "Requirement already satisfied: rich>=10.11.0 in /Users/ben/opt/anaconda3/lib/python3.8/site-packages (from streamlit>=0.63->streamlit_card) (12.5.1)\n",
      "Requirement already satisfied: toolz in /Users/ben/opt/anaconda3/lib/python3.8/site-packages (from altair>=3.2.0->streamlit>=0.63->streamlit_card) (0.11.1)\n",
      "Requirement already satisfied: jsonschema>=3.0 in /Users/ben/opt/anaconda3/lib/python3.8/site-packages (from altair>=3.2.0->streamlit>=0.63->streamlit_card) (3.2.0)\n",
      "Requirement already satisfied: jinja2 in /Users/ben/opt/anaconda3/lib/python3.8/site-packages (from altair>=3.2.0->streamlit>=0.63->streamlit_card) (2.11.3)\n",
      "Requirement already satisfied: entrypoints in /Users/ben/opt/anaconda3/lib/python3.8/site-packages (from altair>=3.2.0->streamlit>=0.63->streamlit_card) (0.3)\n",
      "Requirement already satisfied: gitdb<5,>=4.0.1 in /Users/ben/opt/anaconda3/lib/python3.8/site-packages (from gitpython!=3.1.19->streamlit>=0.63->streamlit_card) (4.0.9)\n",
      "Requirement already satisfied: zipp>=0.5 in /Users/ben/opt/anaconda3/lib/python3.8/site-packages (from importlib-metadata>=1.4->streamlit>=0.63->streamlit_card) (3.4.1)\n",
      "Requirement already satisfied: pyparsing>=2.0.2 in /Users/ben/opt/anaconda3/lib/python3.8/site-packages (from packaging>=14.1->streamlit>=0.63->streamlit_card) (2.4.7)\n",
      "Requirement already satisfied: pytz>=2020.1 in /Users/ben/opt/anaconda3/lib/python3.8/site-packages (from pandas>=0.21.0->streamlit>=0.63->streamlit_card) (2021.1)\n",
      "Requirement already satisfied: traitlets>=4.3.2 in /Users/ben/opt/anaconda3/lib/python3.8/site-packages (from pydeck>=0.1.dev5->streamlit>=0.63->streamlit_card) (5.0.5)\n",
      "Requirement already satisfied: ipywidgets>=7.0.0 in /Users/ben/opt/anaconda3/lib/python3.8/site-packages (from pydeck>=0.1.dev5->streamlit>=0.63->streamlit_card) (7.6.3)\n",
      "Requirement already satisfied: ipykernel>=5.1.2 in /Users/ben/opt/anaconda3/lib/python3.8/site-packages (from pydeck>=0.1.dev5->streamlit>=0.63->streamlit_card) (5.3.4)\n",
      "Requirement already satisfied: six>=1.5 in /Users/ben/opt/anaconda3/lib/python3.8/site-packages (from python-dateutil->streamlit>=0.63->streamlit_card) (1.12.0)\n",
      "Requirement already satisfied: certifi>=2017.4.17 in /Users/ben/opt/anaconda3/lib/python3.8/site-packages (from requests>=2.4->streamlit>=0.63->streamlit_card) (2021.10.8)\n",
      "Requirement already satisfied: chardet<5,>=3.0.2 in /Users/ben/opt/anaconda3/lib/python3.8/site-packages (from requests>=2.4->streamlit>=0.63->streamlit_card) (3.0.4)\n",
      "Requirement already satisfied: urllib3<1.27,>=1.21.1 in /Users/ben/opt/anaconda3/lib/python3.8/site-packages (from requests>=2.4->streamlit>=0.63->streamlit_card) (1.26.4)\n",
      "Requirement already satisfied: idna<3,>=2.5 in /Users/ben/opt/anaconda3/lib/python3.8/site-packages (from requests>=2.4->streamlit>=0.63->streamlit_card) (2.10)\n",
      "Requirement already satisfied: commonmark<0.10.0,>=0.9.0 in /Users/ben/opt/anaconda3/lib/python3.8/site-packages (from rich>=10.11.0->streamlit>=0.63->streamlit_card) (0.9.1)\n",
      "Requirement already satisfied: pygments<3.0.0,>=2.6.0 in /Users/ben/opt/anaconda3/lib/python3.8/site-packages (from rich>=10.11.0->streamlit>=0.63->streamlit_card) (2.8.1)\n",
      "Requirement already satisfied: pytz-deprecation-shim in /Users/ben/opt/anaconda3/lib/python3.8/site-packages (from tzlocal>=1.1->streamlit>=0.63->streamlit_card) (0.1.0.post0)\n",
      "Requirement already satisfied: backports.zoneinfo in /Users/ben/opt/anaconda3/lib/python3.8/site-packages (from tzlocal>=1.1->streamlit>=0.63->streamlit_card) (0.2.1)\n",
      "Requirement already satisfied: decorator>=3.4.0 in /Users/ben/opt/anaconda3/lib/python3.8/site-packages (from validators>=0.2->streamlit>=0.63->streamlit_card) (4.4.2)\n",
      "Requirement already satisfied: smmap<6,>=3.0.1 in /Users/ben/opt/anaconda3/lib/python3.8/site-packages (from gitdb<5,>=4.0.1->gitpython!=3.1.19->streamlit>=0.63->streamlit_card) (5.0.0)\n",
      "Requirement already satisfied: ipython>=5.0.0 in /Users/ben/opt/anaconda3/lib/python3.8/site-packages (from ipykernel>=5.1.2->pydeck>=0.1.dev5->streamlit>=0.63->streamlit_card) (7.29.0)\n",
      "Requirement already satisfied: jupyter-client in /Users/ben/opt/anaconda3/lib/python3.8/site-packages (from ipykernel>=5.1.2->pydeck>=0.1.dev5->streamlit>=0.63->streamlit_card) (6.1.12)\n",
      "Requirement already satisfied: appnope in /Users/ben/opt/anaconda3/lib/python3.8/site-packages (from ipykernel>=5.1.2->pydeck>=0.1.dev5->streamlit>=0.63->streamlit_card) (0.1.2)\n",
      "Requirement already satisfied: widgetsnbextension~=3.5.0 in /Users/ben/opt/anaconda3/lib/python3.8/site-packages (from ipywidgets>=7.0.0->pydeck>=0.1.dev5->streamlit>=0.63->streamlit_card) (3.5.1)\n",
      "Requirement already satisfied: nbformat>=4.2.0 in /Users/ben/opt/anaconda3/lib/python3.8/site-packages (from ipywidgets>=7.0.0->pydeck>=0.1.dev5->streamlit>=0.63->streamlit_card) (5.1.3)\n",
      "Requirement already satisfied: jupyterlab-widgets>=1.0.0 in /Users/ben/opt/anaconda3/lib/python3.8/site-packages (from ipywidgets>=7.0.0->pydeck>=0.1.dev5->streamlit>=0.63->streamlit_card) (1.0.0)\n",
      "Requirement already satisfied: MarkupSafe>=0.23 in /Users/ben/opt/anaconda3/lib/python3.8/site-packages (from jinja2->altair>=3.2.0->streamlit>=0.63->streamlit_card) (2.0.1)\n"
     ]
    },
    {
     "name": "stdout",
     "output_type": "stream",
     "text": [
      "Requirement already satisfied: setuptools in /Users/ben/opt/anaconda3/lib/python3.8/site-packages (from jsonschema>=3.0->altair>=3.2.0->streamlit>=0.63->streamlit_card) (52.0.0.post20210125)\n",
      "Requirement already satisfied: pyrsistent>=0.14.0 in /Users/ben/opt/anaconda3/lib/python3.8/site-packages (from jsonschema>=3.0->altair>=3.2.0->streamlit>=0.63->streamlit_card) (0.17.3)\n",
      "Requirement already satisfied: ipython-genutils in /Users/ben/opt/anaconda3/lib/python3.8/site-packages (from traitlets>=4.3.2->pydeck>=0.1.dev5->streamlit>=0.63->streamlit_card) (0.2.0)\n",
      "Requirement already satisfied: tzdata in /Users/ben/opt/anaconda3/lib/python3.8/site-packages (from pytz-deprecation-shim->tzlocal>=1.1->streamlit>=0.63->streamlit_card) (2022.1)\n",
      "Requirement already satisfied: pickleshare in /Users/ben/opt/anaconda3/lib/python3.8/site-packages (from ipython>=5.0.0->ipykernel>=5.1.2->pydeck>=0.1.dev5->streamlit>=0.63->streamlit_card) (0.7.5)\n",
      "Requirement already satisfied: prompt-toolkit!=3.0.0,!=3.0.1,<3.1.0,>=2.0.0 in /Users/ben/opt/anaconda3/lib/python3.8/site-packages (from ipython>=5.0.0->ipykernel>=5.1.2->pydeck>=0.1.dev5->streamlit>=0.63->streamlit_card) (3.0.17)\n",
      "Requirement already satisfied: matplotlib-inline in /Users/ben/opt/anaconda3/lib/python3.8/site-packages (from ipython>=5.0.0->ipykernel>=5.1.2->pydeck>=0.1.dev5->streamlit>=0.63->streamlit_card) (0.1.2)\n",
      "Requirement already satisfied: backcall in /Users/ben/opt/anaconda3/lib/python3.8/site-packages (from ipython>=5.0.0->ipykernel>=5.1.2->pydeck>=0.1.dev5->streamlit>=0.63->streamlit_card) (0.2.0)\n",
      "Requirement already satisfied: jedi>=0.16 in /Users/ben/opt/anaconda3/lib/python3.8/site-packages (from ipython>=5.0.0->ipykernel>=5.1.2->pydeck>=0.1.dev5->streamlit>=0.63->streamlit_card) (0.17.1)\n",
      "Requirement already satisfied: pexpect>4.3 in /Users/ben/opt/anaconda3/lib/python3.8/site-packages (from ipython>=5.0.0->ipykernel>=5.1.2->pydeck>=0.1.dev5->streamlit>=0.63->streamlit_card) (4.8.0)\n",
      "Requirement already satisfied: jupyter-core in /Users/ben/opt/anaconda3/lib/python3.8/site-packages (from nbformat>=4.2.0->ipywidgets>=7.0.0->pydeck>=0.1.dev5->streamlit>=0.63->streamlit_card) (4.7.1)\n",
      "Requirement already satisfied: notebook>=4.4.1 in /Users/ben/opt/anaconda3/lib/python3.8/site-packages (from widgetsnbextension~=3.5.0->ipywidgets>=7.0.0->pydeck>=0.1.dev5->streamlit>=0.63->streamlit_card) (6.3.0)\n",
      "Requirement already satisfied: pyzmq>=13 in /Users/ben/opt/anaconda3/lib/python3.8/site-packages (from jupyter-client->ipykernel>=5.1.2->pydeck>=0.1.dev5->streamlit>=0.63->streamlit_card) (20.0.0)\n",
      "Requirement already satisfied: parso<0.8.0,>=0.7.0 in /Users/ben/opt/anaconda3/lib/python3.8/site-packages (from jedi>=0.16->ipython>=5.0.0->ipykernel>=5.1.2->pydeck>=0.1.dev5->streamlit>=0.63->streamlit_card) (0.7.0)\n",
      "Requirement already satisfied: prometheus-client in /Users/ben/opt/anaconda3/lib/python3.8/site-packages (from notebook>=4.4.1->widgetsnbextension~=3.5.0->ipywidgets>=7.0.0->pydeck>=0.1.dev5->streamlit>=0.63->streamlit_card) (0.10.0)\n",
      "Requirement already satisfied: nbconvert in /Users/ben/opt/anaconda3/lib/python3.8/site-packages (from notebook>=4.4.1->widgetsnbextension~=3.5.0->ipywidgets>=7.0.0->pydeck>=0.1.dev5->streamlit>=0.63->streamlit_card) (6.0.7)\n",
      "Requirement already satisfied: terminado>=0.8.3 in /Users/ben/opt/anaconda3/lib/python3.8/site-packages (from notebook>=4.4.1->widgetsnbextension~=3.5.0->ipywidgets>=7.0.0->pydeck>=0.1.dev5->streamlit>=0.63->streamlit_card) (0.9.4)\n",
      "Requirement already satisfied: argon2-cffi in /Users/ben/opt/anaconda3/lib/python3.8/site-packages (from notebook>=4.4.1->widgetsnbextension~=3.5.0->ipywidgets>=7.0.0->pydeck>=0.1.dev5->streamlit>=0.63->streamlit_card) (20.1.0)\n",
      "Requirement already satisfied: Send2Trash>=1.5.0 in /Users/ben/opt/anaconda3/lib/python3.8/site-packages (from notebook>=4.4.1->widgetsnbextension~=3.5.0->ipywidgets>=7.0.0->pydeck>=0.1.dev5->streamlit>=0.63->streamlit_card) (1.5.0)\n",
      "Requirement already satisfied: ptyprocess>=0.5 in /Users/ben/opt/anaconda3/lib/python3.8/site-packages (from pexpect>4.3->ipython>=5.0.0->ipykernel>=5.1.2->pydeck>=0.1.dev5->streamlit>=0.63->streamlit_card) (0.7.0)\n",
      "Requirement already satisfied: wcwidth in /Users/ben/opt/anaconda3/lib/python3.8/site-packages (from prompt-toolkit!=3.0.0,!=3.0.1,<3.1.0,>=2.0.0->ipython>=5.0.0->ipykernel>=5.1.2->pydeck>=0.1.dev5->streamlit>=0.63->streamlit_card) (0.2.5)\n",
      "Requirement already satisfied: cffi>=1.0.0 in /Users/ben/opt/anaconda3/lib/python3.8/site-packages (from argon2-cffi->notebook>=4.4.1->widgetsnbextension~=3.5.0->ipywidgets>=7.0.0->pydeck>=0.1.dev5->streamlit>=0.63->streamlit_card) (1.14.5)\n",
      "Requirement already satisfied: jupyterlab-pygments in /Users/ben/opt/anaconda3/lib/python3.8/site-packages (from nbconvert->notebook>=4.4.1->widgetsnbextension~=3.5.0->ipywidgets>=7.0.0->pydeck>=0.1.dev5->streamlit>=0.63->streamlit_card) (0.1.2)\n",
      "Requirement already satisfied: testpath in /Users/ben/opt/anaconda3/lib/python3.8/site-packages (from nbconvert->notebook>=4.4.1->widgetsnbextension~=3.5.0->ipywidgets>=7.0.0->pydeck>=0.1.dev5->streamlit>=0.63->streamlit_card) (0.4.4)\n",
      "Requirement already satisfied: defusedxml in /Users/ben/opt/anaconda3/lib/python3.8/site-packages (from nbconvert->notebook>=4.4.1->widgetsnbextension~=3.5.0->ipywidgets>=7.0.0->pydeck>=0.1.dev5->streamlit>=0.63->streamlit_card) (0.7.1)\n",
      "Requirement already satisfied: nbclient<0.6.0,>=0.5.0 in /Users/ben/opt/anaconda3/lib/python3.8/site-packages (from nbconvert->notebook>=4.4.1->widgetsnbextension~=3.5.0->ipywidgets>=7.0.0->pydeck>=0.1.dev5->streamlit>=0.63->streamlit_card) (0.5.1)\n",
      "Requirement already satisfied: mistune<2,>=0.8.1 in /Users/ben/opt/anaconda3/lib/python3.8/site-packages (from nbconvert->notebook>=4.4.1->widgetsnbextension~=3.5.0->ipywidgets>=7.0.0->pydeck>=0.1.dev5->streamlit>=0.63->streamlit_card) (0.8.4)\n",
      "Requirement already satisfied: bleach in /Users/ben/opt/anaconda3/lib/python3.8/site-packages (from nbconvert->notebook>=4.4.1->widgetsnbextension~=3.5.0->ipywidgets>=7.0.0->pydeck>=0.1.dev5->streamlit>=0.63->streamlit_card) (3.3.0)\n",
      "Requirement already satisfied: pandocfilters>=1.4.1 in /Users/ben/opt/anaconda3/lib/python3.8/site-packages (from nbconvert->notebook>=4.4.1->widgetsnbextension~=3.5.0->ipywidgets>=7.0.0->pydeck>=0.1.dev5->streamlit>=0.63->streamlit_card) (1.4.3)\n",
      "Requirement already satisfied: pycparser in /Users/ben/opt/anaconda3/lib/python3.8/site-packages (from cffi>=1.0.0->argon2-cffi->notebook>=4.4.1->widgetsnbextension~=3.5.0->ipywidgets>=7.0.0->pydeck>=0.1.dev5->streamlit>=0.63->streamlit_card) (2.20)\n",
      "Requirement already satisfied: async-generator in /Users/ben/opt/anaconda3/lib/python3.8/site-packages (from nbclient<0.6.0,>=0.5.0->nbconvert->notebook>=4.4.1->widgetsnbextension~=3.5.0->ipywidgets>=7.0.0->pydeck>=0.1.dev5->streamlit>=0.63->streamlit_card) (1.10)\n",
      "Requirement already satisfied: nest-asyncio in /Users/ben/opt/anaconda3/lib/python3.8/site-packages (from nbclient<0.6.0,>=0.5.0->nbconvert->notebook>=4.4.1->widgetsnbextension~=3.5.0->ipywidgets>=7.0.0->pydeck>=0.1.dev5->streamlit>=0.63->streamlit_card) (1.4.2)\n",
      "Requirement already satisfied: webencodings in /Users/ben/opt/anaconda3/lib/python3.8/site-packages (from bleach->nbconvert->notebook>=4.4.1->widgetsnbextension~=3.5.0->ipywidgets>=7.0.0->pydeck>=0.1.dev5->streamlit>=0.63->streamlit_card) (0.5.1)\n",
      "Installing collected packages: streamlit_card\n",
      "Successfully installed streamlit_card-0.0.4\n"
     ]
    }
   ],
   "source": [
    "!pip install streamlit_card\n"
   ]
  },
  {
   "cell_type": "code",
   "execution_count": null,
   "metadata": {},
   "outputs": [],
   "source": []
  }
 ],
 "metadata": {
  "kernelspec": {
   "display_name": "Python 3",
   "language": "python",
   "name": "python3"
  },
  "language_info": {
   "codemirror_mode": {
    "name": "ipython",
    "version": 3
   },
   "file_extension": ".py",
   "mimetype": "text/x-python",
   "name": "python",
   "nbconvert_exporter": "python",
   "pygments_lexer": "ipython3",
   "version": "3.7.4"
  }
 },
 "nbformat": 4,
 "nbformat_minor": 2
}
